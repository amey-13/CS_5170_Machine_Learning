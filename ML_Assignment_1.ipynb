{
 "cells": [
  {
   "cell_type": "markdown",
   "id": "59b85567",
   "metadata": {},
   "source": [
    "## Question 1"
   ]
  },
  {
   "cell_type": "code",
   "execution_count": 1,
   "id": "542634e2",
   "metadata": {},
   "outputs": [
    {
     "name": "stdout",
     "output_type": "stream",
     "text": [
      "The sorted list of ages is: [19, 19, 20, 22, 24, 24, 24, 25, 25, 26]\n",
      "From list ages minimum age is : 19\n",
      "From list ages maximum age is : 26\n",
      "[19, 19, 20, 22, 24, 24, 24, 25, 25, 26, 19, 26]\n",
      "The median age in the list of ages is: 24.0\n",
      "The average age of the students is:  22.75\n",
      "The range of the ages is: 7\n"
     ]
    }
   ],
   "source": [
    "# The following is the list of 10 student ages\n",
    "\n",
    "ages = [19, 22, 19, 24, 20, 25, 26, 24, 25, 24]\n",
    "\n",
    "# Sorting the list and finding the minimum and maximum ages\n",
    "\n",
    "ages.sort()\n",
    "Minimum_age = min(ages)\n",
    "Maximum_age = max(ages)\n",
    "\n",
    "# Printing sorted list of ages\n",
    "\n",
    "print(\"The sorted list of ages is:\",ages)\n",
    "\n",
    "# Printing minimum age from ages list after sorting\n",
    "\n",
    "print(\"From list ages minimum age is :\",Minimum_age)\n",
    "\n",
    "# Printing maximum age from ages list after sorting\n",
    "\n",
    "print(\"From list ages maximum age is :\",Maximum_age)\n",
    "\n",
    "# Adding minimum and maximum age to the list again\n",
    "\n",
    "ages.append(Minimum_age)\n",
    "ages.append(Maximum_age)\n",
    "print(ages)\n",
    "\n",
    "#Finding the median age in the list ages using statistics library\n",
    "\n",
    "import statistics\n",
    "print(\"The median age in the list of ages is:\",statistics.median(ages))\n",
    "\n",
    "# Finding the average age\n",
    "\n",
    "average_age = sum(ages) / len(ages)\n",
    "print(\"The average age of the students is: \", average_age)\n",
    "\n",
    "# Finding the range of the ages\n",
    "\n",
    "range = Maximum_age - Minimum_age\n",
    "print(\"The range of the ages is:\", range)"
   ]
  },
  {
   "cell_type": "markdown",
   "id": "a614f63e",
   "metadata": {},
   "source": [
    "## Question 2"
   ]
  },
  {
   "cell_type": "code",
   "execution_count": 2,
   "id": "1c829b25",
   "metadata": {},
   "outputs": [
    {
     "name": "stdout",
     "output_type": "stream",
     "text": [
      "The dictionary is:  {}\n",
      "DOG =  {'Name': 'Sherin', 'Color': 'White', 'Breed': 'Laborador', 'age': 3, 'legs': 4}\n",
      "STUDENT =  {'First_Name': 'Amey', 'Last_Name': 'Sawant', 'Gender': 'Male', 'age': 22, 'Marital Status': 'Single', 'Skills': 'Python', 'Country': 'USA', 'City': 'Warrensburg', 'Address': '115 Broad Street'}\n",
      "9\n",
      "Skills value is:  Python\n",
      "Type of student list:  <class 'list'>\n",
      "STUDENT {'First_Name': 'Amey', 'Last_Name': 'Sawant', 'Gender': 'Male', 'age': 22, 'Marital Status': 'Single', 'Skills': 'Java', 'Country': 'USA', 'City': 'Warrensburg', 'Address': '115 Broad Street'}\n",
      "dict_keys(['First_Name', 'Last_Name', 'Gender', 'age', 'Marital Status', 'Skills', 'Country', 'City', 'Address'])\n",
      "dict_values(['Amey', 'Sawant', 'Male', 22, 'Single', 'Java', 'USA', 'Warrensburg', '115 Broad Street'])\n"
     ]
    }
   ],
   "source": [
    "# Create an empty dictionary dog\n",
    "\n",
    "dog = {}\n",
    "print(\"The dictionary is: \", dog)\n",
    "\n",
    "# Adding up keys and value to the \"DOG\" dictionary\n",
    "\n",
    "dog = {'Name':'Sherin', 'Color':'White', 'Breed':'Laborador', 'age': 3,'legs': 4}\n",
    "print(\"DOG = \", dog)\n",
    "\n",
    "#Create a student dictionary and add first_name, last_name, gender, age, marital status, skills, country, city and address as keys for the dictionary\n",
    "\n",
    "student = {'First_Name':'Amey', 'Last_Name':'Sawant', 'Gender':'Male', 'age': 22, 'Marital Status': 'Single',\n",
    "           'Skills':'Python', 'Country':'USA', 'City':'Warrensburg', 'Address': '115 Broad Street'}\n",
    "print(\"STUDENT = \", student)\n",
    "\n",
    "#Getting the length of the student dictionary\n",
    "\n",
    "print(len(student))\n",
    "\n",
    "# By using get method we are getting value by using key\n",
    "\n",
    "print( \"Skills value is: \" ,student.get('Skills')) \n",
    "studentList = list(student)  \n",
    "# printing type \n",
    "print(\"Type of student list: \",type(studentList))\n",
    "\n",
    "#Modifying the skills values \n",
    "\n",
    "student.update({'Skills' : 'Java'})\n",
    "print(\"STUDENT\", student)\n",
    "\n",
    "#Getting the dictionary keys as a list\n",
    "\n",
    "print(student.keys())\n",
    "\n",
    "#Getting the dictionary values as a list\n",
    "\n",
    "print(student.values())"
   ]
  },
  {
   "cell_type": "markdown",
   "id": "72bee274",
   "metadata": {},
   "source": [
    "## Question 3"
   ]
  },
  {
   "cell_type": "code",
   "execution_count": 3,
   "id": "70da248f",
   "metadata": {},
   "outputs": [
    {
     "name": "stdout",
     "output_type": "stream",
     "text": [
      "('Anay', 'Andy', 'Pratiksha', 'Anjali')\n",
      "Number of siblings are  4\n",
      "Family members are:  ('Anay', 'Andy', 'Pratiksha', 'Anjali', 'Ashok', 'Anita')\n"
     ]
    }
   ],
   "source": [
    "#Create a tuple containing names of your sisters and your brothers (imaginary siblings are fine)\n",
    "Brother_names = ('Anay' , 'Andy')\n",
    "Sister_names = ('Pratiksha' , 'Anjali')\n",
    "\n",
    "#Join brothers and sisters tuples and assign it to siblings\n",
    "\n",
    "Siblings = (Brother_names + Sister_names);\n",
    "print(Siblings)\n",
    "\n",
    "# Number of sibilings\n",
    "\n",
    "number_of_sibilings = len(Siblings)\n",
    "print(\"Number of siblings are \", number_of_sibilings)\n",
    "\n",
    "Tuple_1 = ('Ashok', 'Anita')\n",
    "Family_members = (Siblings + Tuple_1)\n",
    "\n",
    "print(\"Family members are: \", Family_members)"
   ]
  },
  {
   "cell_type": "markdown",
   "id": "34675be9",
   "metadata": {},
   "source": [
    "## Question 4"
   ]
  },
  {
   "cell_type": "code",
   "execution_count": 4,
   "id": "127b124b",
   "metadata": {},
   "outputs": [
    {
     "name": "stdout",
     "output_type": "stream",
     "text": [
      "After adding Twitter the updated set is  {'Apple', 'Facebook', 'Amazon', 'Microsoft', 'Twitter', 'IBM', 'Oracle', 'Google'}\n",
      "{'Facebook', 'Accenture', 'Oracle', 'Google', 'Infosys', 'Apple', 'Dell', 'IBM', 'Twitter', 'Amazon', 'Microsoft'}\n",
      "{'Facebook', 'Oracle', 'Google', 'Infosys', 'Apple', 'Dell', 'IBM', 'Twitter', 'Amazon', 'Microsoft'}\n"
     ]
    }
   ],
   "source": [
    "it_companies = {'Facebook', 'Google', 'Microsoft', 'Apple', 'IBM', 'Oracle', 'Amazon'}\n",
    "\n",
    "A = {19, 22, 24, 20, 25, 26}\n",
    "B = {19, 22, 20, 25, 26, 24, 28, 27}\n",
    "\n",
    "age = [22, 19, 24, 25, 26, 24, 25, 24]\n",
    "\n",
    "# Find the length of the set it_companies\n",
    "\n",
    "len(it_companies)\n",
    "\n",
    "# Adding twiter to IT_Companies\n",
    "it_companies.add('Twitter')\n",
    "print(\"After adding Twitter the updated set is \", it_companies)\n",
    "\n",
    "#Inserting multiple IT companies at once to the set it_companies\n",
    "\n",
    "Companies = ('Accenture' , 'Dell' , 'Infosys')\n",
    "it_companies.update(Companies)\n",
    "print(it_companies)\n",
    "\n",
    "#Removing one of the companies from the set it_companies\n",
    "\n",
    "it_companies.remove('Accenture')\n",
    "print(it_companies)"
   ]
  },
  {
   "cell_type": "markdown",
   "id": "44358e82",
   "metadata": {},
   "source": [
    "### What is the difference between remove and discard?\n",
    "\n",
    "Answer: Both the methods are used to remove an item from the set. The only difference is that the remove method will raise an error if the specified item does not exist, and the discard method will not."
   ]
  },
  {
   "cell_type": "code",
   "execution_count": 5,
   "id": "f00221e1",
   "metadata": {},
   "outputs": [
    {
     "name": "stdout",
     "output_type": "stream",
     "text": [
      "Value of C is: {19, 20, 22, 24, 25, 26, 27, 28}\n",
      "A intersection B is: {19, 20, 22, 24, 25, 26}\n",
      "Is A subset of B:  True\n",
      "Are A and B disjoint sets:  False\n",
      "Joining B with A  {19, 20, 22, 24, 25, 26, 27, 28}\n",
      "Joining A with B  {19, 20, 22, 24, 25, 26, 27, 28}\n",
      "The symmetric difference between A and B is:  {27, 28}\n",
      "SET A:  set()\n",
      "Set B: set()\n",
      "List of age: [22, 19, 24, 25, 26, 24, 25, 24]\n",
      "Set of age: {19, 22, 24, 25, 26}\n",
      "Set length: 5\n",
      "List length: 8\n",
      "Length is not equal after changing list to set\n"
     ]
    }
   ],
   "source": [
    "A = {19, 22, 24, 20, 25, 26}\n",
    "B = {19, 22, 20, 25, 26, 24, 28, 27}\n",
    "\n",
    "# Joining both a and b by using union operator\n",
    "C = A.union(B)\n",
    "print(\"Value of C is:\", C)\n",
    "\n",
    "# Finding the intersection of A and B\n",
    "print(\"A intersection B is:\", A.intersection(B))\n",
    "\n",
    "#Finding if A is a subset of B\n",
    "print(\"Is A subset of B: \", A.issubset(B))\n",
    "\n",
    "#Finding if A and B are disjoint sets\n",
    "print(\"Are A and B disjoint sets: \", A.isdisjoint(B))\n",
    "\n",
    "#Join A with B and B with A\n",
    "\n",
    "print(\"Joining B with A \", A.union(B))\n",
    "print(\"Joining A with B \", B.union(A))\n",
    "\n",
    "#Finding the symmetric difference between A and B\n",
    "\n",
    "print(\"The symmetric difference between A and B is: \", A.symmetric_difference(B))\n",
    "\n",
    "#Deleting the sets completely\n",
    "\n",
    "A.clear()\n",
    "B.clear()\n",
    "\n",
    "# printing results after clearing\n",
    "\n",
    "print(\"SET A: \",A)\n",
    "print(\"Set B:\",B)\n",
    "\n",
    "# Converting the ages to a set and compare the length of the list and the set.\n",
    "\n",
    "age = [22, 19, 24, 25, 26, 24, 25, 24]\n",
    "print(\"List of age:\",age)\n",
    "\n",
    "# Converting list to set\n",
    "ageCompare=set(age)\n",
    "print(\"Set of age:\",ageCompare)\n",
    "\n",
    "# Length of age\n",
    "\n",
    "length = len(ageCompare)\n",
    "print(\"Set length:\",length)\n",
    "\n",
    "length2 = len(age)\n",
    "print(\"List length:\",length2)\n",
    "\n",
    "# Comparing list and set by conditions\n",
    "\n",
    "if length == length2:\n",
    "   print(\"Length is equal after changing list to set\")\n",
    "else:\n",
    "   print(\"Length is not equal after changing list to set\")"
   ]
  },
  {
   "cell_type": "markdown",
   "id": "36d77d06",
   "metadata": {},
   "source": [
    "## Question 5"
   ]
  },
  {
   "cell_type": "code",
   "execution_count": 6,
   "id": "bfd35045",
   "metadata": {},
   "outputs": [
    {
     "name": "stdout",
     "output_type": "stream",
     "text": [
      "The area of the circle is:  2826.0\n",
      "The circumference of the circle is:  188.4\n",
      "Enter The Radius:9\n",
      "The area of the circle is:  254.34\n"
     ]
    }
   ],
   "source": [
    "#Calculating the area of a circle and assign the value to a variable name of _area_of_circle_\n",
    "\n",
    "radius = 30\n",
    "pi = 3.14\n",
    "_area_of_circle_ = pi * radius * radius\n",
    "print(\"The area of the circle is: \", _area_of_circle_)\n",
    "\n",
    "\n",
    "#Calculating the circumference of a circle and assign the value to a variable name of _circum_of_circle_\n",
    "\n",
    "_circum_of_circle_ = 2 * pi * radius\n",
    "print(\"The circumference of the circle is: \", _circum_of_circle_)\n",
    "\n",
    "#Take radius as user input and calculate the area.\n",
    "\n",
    "r = input('Enter The Radius:')\n",
    "r = int(r)\n",
    "area = pi * r * r\n",
    "print(\"The area of the circle is: \", area)"
   ]
  },
  {
   "cell_type": "markdown",
   "id": "08e70249",
   "metadata": {},
   "source": [
    "## Question 6"
   ]
  },
  {
   "cell_type": "code",
   "execution_count": 7,
   "id": "6f44bcc6",
   "metadata": {},
   "outputs": [
    {
     "name": "stdout",
     "output_type": "stream",
     "text": [
      "The number of unique words in the sentence are:  10\n"
     ]
    }
   ],
   "source": [
    "# Calclating how many unique words have been used in the sentence? Using the split methods and set to get the unique words.\n",
    "\n",
    "sentence = \"I am a teacher and I love to inspire and teach people\"\n",
    "\n",
    "# Converting the sentence to set\n",
    "\n",
    "SET = set(sentence.split())\n",
    "\n",
    "print(\"The number of unique words in the sentence are: \", len(SET))"
   ]
  },
  {
   "cell_type": "markdown",
   "id": "610cc4d4",
   "metadata": {},
   "source": [
    "## Question 7 "
   ]
  },
  {
   "cell_type": "code",
   "execution_count": 8,
   "id": "8987a830",
   "metadata": {},
   "outputs": [
    {
     "name": "stdout",
     "output_type": "stream",
     "text": [
      "Name\tAge\tCountry\tCity\n",
      "Asabeneh\t250\tFinland\tHelsinki\n"
     ]
    }
   ],
   "source": [
    "#Printing the output as per the question\n",
    "\n",
    "print(\"Name\\tAge\\tCountry\\tCity\\nAsabeneh\\t250\\tFinland\\tHelsinki\")"
   ]
  },
  {
   "cell_type": "markdown",
   "id": "c6f60641",
   "metadata": {},
   "source": [
    "## Question 8"
   ]
  },
  {
   "cell_type": "code",
   "execution_count": 9,
   "id": "466c347a",
   "metadata": {},
   "outputs": [
    {
     "name": "stdout",
     "output_type": "stream",
     "text": [
      " The area of a circle radius 10 is 314.0 meters square.\n"
     ]
    }
   ],
   "source": [
    "# Using the string formatting method to display the following:\n",
    "\n",
    "radius = 10\n",
    "area = 3.14 * radius ** 2\n",
    "\n",
    "print(\" \" + \"The area of a circle radius\" + \" \" + str(radius) + \" \" +\"is\" + \" \"+ str(3.14 * radius ** 2) +\" meters square.\")"
   ]
  },
  {
   "cell_type": "markdown",
   "id": "92f62baa",
   "metadata": {},
   "source": [
    "## Question 9"
   ]
  },
  {
   "cell_type": "code",
   "execution_count": 10,
   "id": "c12dff16",
   "metadata": {},
   "outputs": [
    {
     "name": "stdout",
     "output_type": "stream",
     "text": [
      "Enter num of students2\n",
      "Enter weight in lbs:158\n",
      "Enter weight in lbs:175\n",
      "The list in kilograms is: [71.667536, 79.3786]\n"
     ]
    }
   ],
   "source": [
    "# Writing a program, which reads weights (lbs.) of N students into a list and convert these weights to kilograms in a separate list using Loop. N: No of students \n",
    "\n",
    "conversionrate = 0.453592     #conversion rate from lbs to kgs is 0.453592\n",
    "x = int(input('Enter num of students'))\n",
    "\n",
    "List=[]\n",
    "i = 0\n",
    "while i < x:\n",
    "    List.append(int(input('Enter weight in lbs:')))\n",
    "    i = i + 1\n",
    "output = [conversionrate * i for i in List]\n",
    "\n",
    "print(\"The list in kilograms is:\",output)"
   ]
  },
  {
   "cell_type": "code",
   "execution_count": null,
   "id": "9eaebccd",
   "metadata": {},
   "outputs": [],
   "source": []
  }
 ],
 "metadata": {
  "kernelspec": {
   "display_name": "Python 3 (ipykernel)",
   "language": "python",
   "name": "python3"
  },
  "language_info": {
   "codemirror_mode": {
    "name": "ipython",
    "version": 3
   },
   "file_extension": ".py",
   "mimetype": "text/x-python",
   "name": "python",
   "nbconvert_exporter": "python",
   "pygments_lexer": "ipython3",
   "version": "3.9.13"
  }
 },
 "nbformat": 4,
 "nbformat_minor": 5
}
